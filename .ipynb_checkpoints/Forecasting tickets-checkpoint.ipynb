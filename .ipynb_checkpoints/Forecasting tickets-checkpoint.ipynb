{
 "cells": [
  {
   "cell_type": "markdown",
   "metadata": {},
   "source": [
    "# Forecasting number of parking tickets in LA\n",
    "\n",
    "Let's see if we can forecast the number of parking tickets in LA on a daily basis!"
   ]
  },
  {
   "cell_type": "code",
   "execution_count": null,
   "metadata": {},
   "outputs": [
    {
     "name": "stderr",
     "output_type": "stream",
     "text": [
      "/usr/local/Cellar/python/3.6.5/Frameworks/Python.framework/Versions/3.6/lib/python3.6/importlib/_bootstrap.py:219: ImportWarning: can't resolve package from __spec__ or __package__, falling back on __name__ and __path__\n",
      "  return f(*args, **kwds)\n",
      "/usr/local/Cellar/python/3.6.5/Frameworks/Python.framework/Versions/3.6/lib/python3.6/importlib/_bootstrap.py:219: ImportWarning: can't resolve package from __spec__ or __package__, falling back on __name__ and __path__\n",
      "  return f(*args, **kwds)\n"
     ]
    }
   ],
   "source": [
    "import numpy as np\n",
    "import pandas as pd\n",
    "data = pd.read_csv(\"Data/parking-citations.csv\")"
   ]
  },
  {
   "cell_type": "code",
   "execution_count": null,
   "metadata": {},
   "outputs": [],
   "source": [
    "data.head()"
   ]
  },
  {
   "cell_type": "code",
   "execution_count": null,
   "metadata": {},
   "outputs": [],
   "source": [
    "data['Issue Date'] = data['Issue Date'].astype(\"str\")\n",
    "data['Issue Date'] = pd.to_datetime(data['Issue Date'])\n"
   ]
  },
  {
   "cell_type": "markdown",
   "metadata": {},
   "source": [
    "## Drop null rows\n",
    "\n",
    "We need to drop the null rows. "
   ]
  },
  {
   "cell_type": "code",
   "execution_count": null,
   "metadata": {},
   "outputs": [],
   "source": [
    "##def check_null(col):\n",
    " #   print(col)\n",
    "\n",
    "#data.apply(isnull().sum, axis = 1)"
   ]
  },
  {
   "cell_type": "code",
   "execution_count": null,
   "metadata": {},
   "outputs": [],
   "source": [
    "data.groupby(\"Issue Date\").head()"
   ]
  },
  {
   "cell_type": "code",
   "execution_count": 67,
   "metadata": {},
   "outputs": [
    {
     "name": "stdout",
     "output_type": "stream",
     "text": [
      "1251\n",
      "2015-12-21 12:00:00\n",
      "1435\n",
      "2015-12-21 14:00:00\n",
      "2055\n",
      "2015-12-21 20:00:00\n",
      "1515\n",
      "2015-12-26 15:00:00\n",
      "115\n",
      "2015-09-15 01:00:00\n",
      "19\n",
      "2015-09-15 00:00:00\n",
      "1710\n",
      "2015-12-17 17:00:00\n",
      "1710\n",
      "2015-12-17 17:00:00\n",
      "945\n",
      "2015-12-22 09:00:00\n",
      "1100\n",
      "2015-12-22 11:00:00\n",
      "1100\n",
      "2015-12-22 11:00:00\n",
      "1105\n",
      "2015-12-22 11:00:00\n"
     ]
    }
   ],
   "source": [
    "#data['Issue Date'].head()\n",
    "from datetime import datetime, timedelta, time\n",
    "\n",
    "def convert_date_to_hourly(row):    \n",
    "    nr_str = str(int(row[2]))\n",
    "    print(nr_str)\n",
    "    if len(nr_str) >= 3:\n",
    "        #seq = row[1] + timedelta(hours = int(str(int(row[2]))[:(len(nr_str)-2)]), minutes=int(str(int(row[2]))[(len(nr_str)-2):]))\n",
    "        seq = row[1] + timedelta(hours = int(str(int(row[2]))[:(len(nr_str)-2)]))\n",
    "    else:\n",
    "        #seq = row[1] + timedelta(minutes = int(str(int(row[2]))))\n",
    "        seq = row[1]\n",
    "    print(seq)\n",
    "    return seq\n",
    "data['Issue time'] = data['Issue time'].fillna(0)\n",
    "\n",
    "data['Time section'] = data.apply(convert_date_to_hourly, axis=1)\n",
    "\n",
    "\n",
    "\n",
    "#data.iloc[:,2].applymap(lambda x: convert_hours(x))\n",
    "#data.iloc[:,1:2]=data.iloc[:,1:2].applymap(lambda x: float(x[:-1]))\n",
    "\n",
    "#data['Issue time'].astype(\"str\").str.slice(0,2).astype(\"int\").head()"
   ]
  },
  {
   "cell_type": "code",
   "execution_count": 28,
   "metadata": {},
   "outputs": [
    {
     "data": {
      "text/plain": [
       "0   2015-12-21\n",
       "1   2015-12-21\n",
       "2   2015-12-21\n",
       "3   2015-12-26\n",
       "4   2015-09-15\n",
       "Name: Issue Date, dtype: datetime64[ns]"
      ]
     },
     "execution_count": 28,
     "metadata": {},
     "output_type": "execute_result"
    }
   ],
   "source": [
    "data['Issue Date'].head()"
   ]
  },
  {
   "cell_type": "code",
   "execution_count": 68,
   "metadata": {},
   "outputs": [
    {
     "data": {
      "text/html": [
       "<div>\n",
       "<style scoped>\n",
       "    .dataframe tbody tr th:only-of-type {\n",
       "        vertical-align: middle;\n",
       "    }\n",
       "\n",
       "    .dataframe tbody tr th {\n",
       "        vertical-align: top;\n",
       "    }\n",
       "\n",
       "    .dataframe thead th {\n",
       "        text-align: right;\n",
       "    }\n",
       "</style>\n",
       "<table border=\"1\" class=\"dataframe\">\n",
       "  <thead>\n",
       "    <tr style=\"text-align: right;\">\n",
       "      <th></th>\n",
       "      <th>Ticket number</th>\n",
       "      <th>Issue Date</th>\n",
       "      <th>Issue time</th>\n",
       "      <th>Meter Id</th>\n",
       "      <th>Marked Time</th>\n",
       "      <th>RP State Plate</th>\n",
       "      <th>Plate Expiry Date</th>\n",
       "      <th>VIN</th>\n",
       "      <th>Make</th>\n",
       "      <th>Body Style</th>\n",
       "      <th>Color</th>\n",
       "      <th>Location</th>\n",
       "      <th>Route</th>\n",
       "      <th>Agency</th>\n",
       "      <th>Violation code</th>\n",
       "      <th>Violation Description</th>\n",
       "      <th>Fine amount</th>\n",
       "      <th>Latitude</th>\n",
       "      <th>Longitude</th>\n",
       "      <th>Time section</th>\n",
       "    </tr>\n",
       "  </thead>\n",
       "  <tbody>\n",
       "    <tr>\n",
       "      <th>0</th>\n",
       "      <td>1103341116</td>\n",
       "      <td>2015-12-21</td>\n",
       "      <td>1251.0</td>\n",
       "      <td>NaN</td>\n",
       "      <td>NaN</td>\n",
       "      <td>CA</td>\n",
       "      <td>200304.0</td>\n",
       "      <td>NaN</td>\n",
       "      <td>HOND</td>\n",
       "      <td>PA</td>\n",
       "      <td>GY</td>\n",
       "      <td>13147 WELBY WAY</td>\n",
       "      <td>01521</td>\n",
       "      <td>1.0</td>\n",
       "      <td>4000A1</td>\n",
       "      <td>NO EVIDENCE OF REG</td>\n",
       "      <td>50.0</td>\n",
       "      <td>99999.0</td>\n",
       "      <td>99999.0</td>\n",
       "      <td>2015-12-21 12:00:00</td>\n",
       "    </tr>\n",
       "    <tr>\n",
       "      <th>1</th>\n",
       "      <td>1103700150</td>\n",
       "      <td>2015-12-21</td>\n",
       "      <td>1435.0</td>\n",
       "      <td>NaN</td>\n",
       "      <td>NaN</td>\n",
       "      <td>CA</td>\n",
       "      <td>201512.0</td>\n",
       "      <td>NaN</td>\n",
       "      <td>GMC</td>\n",
       "      <td>VN</td>\n",
       "      <td>WH</td>\n",
       "      <td>525 S MAIN ST</td>\n",
       "      <td>1C51</td>\n",
       "      <td>1.0</td>\n",
       "      <td>4000A1</td>\n",
       "      <td>NO EVIDENCE OF REG</td>\n",
       "      <td>50.0</td>\n",
       "      <td>99999.0</td>\n",
       "      <td>99999.0</td>\n",
       "      <td>2015-12-21 14:00:00</td>\n",
       "    </tr>\n",
       "    <tr>\n",
       "      <th>2</th>\n",
       "      <td>1104803000</td>\n",
       "      <td>2015-12-21</td>\n",
       "      <td>2055.0</td>\n",
       "      <td>NaN</td>\n",
       "      <td>NaN</td>\n",
       "      <td>CA</td>\n",
       "      <td>201503.0</td>\n",
       "      <td>NaN</td>\n",
       "      <td>NISS</td>\n",
       "      <td>PA</td>\n",
       "      <td>BK</td>\n",
       "      <td>200 WORLD WAY</td>\n",
       "      <td>2R2</td>\n",
       "      <td>2.0</td>\n",
       "      <td>8939</td>\n",
       "      <td>WHITE CURB</td>\n",
       "      <td>58.0</td>\n",
       "      <td>6439997.9</td>\n",
       "      <td>1802686.4</td>\n",
       "      <td>2015-12-21 20:00:00</td>\n",
       "    </tr>\n",
       "    <tr>\n",
       "      <th>3</th>\n",
       "      <td>1104820732</td>\n",
       "      <td>2015-12-26</td>\n",
       "      <td>1515.0</td>\n",
       "      <td>NaN</td>\n",
       "      <td>NaN</td>\n",
       "      <td>CA</td>\n",
       "      <td>NaN</td>\n",
       "      <td>NaN</td>\n",
       "      <td>ACUR</td>\n",
       "      <td>PA</td>\n",
       "      <td>WH</td>\n",
       "      <td>100 WORLD WAY</td>\n",
       "      <td>2F11</td>\n",
       "      <td>2.0</td>\n",
       "      <td>000</td>\n",
       "      <td>17104h</td>\n",
       "      <td>NaN</td>\n",
       "      <td>6440041.1</td>\n",
       "      <td>1802686.2</td>\n",
       "      <td>2015-12-26 15:00:00</td>\n",
       "    </tr>\n",
       "    <tr>\n",
       "      <th>4</th>\n",
       "      <td>1105461453</td>\n",
       "      <td>2015-09-15</td>\n",
       "      <td>115.0</td>\n",
       "      <td>NaN</td>\n",
       "      <td>NaN</td>\n",
       "      <td>CA</td>\n",
       "      <td>200316.0</td>\n",
       "      <td>NaN</td>\n",
       "      <td>CHEV</td>\n",
       "      <td>PA</td>\n",
       "      <td>BK</td>\n",
       "      <td>GEORGIA ST/OLYMPIC</td>\n",
       "      <td>1FB70</td>\n",
       "      <td>1.0</td>\n",
       "      <td>8069A</td>\n",
       "      <td>NO STOPPING/STANDING</td>\n",
       "      <td>93.0</td>\n",
       "      <td>99999.0</td>\n",
       "      <td>99999.0</td>\n",
       "      <td>2015-09-15 01:00:00</td>\n",
       "    </tr>\n",
       "  </tbody>\n",
       "</table>\n",
       "</div>"
      ],
      "text/plain": [
       "  Ticket number Issue Date  Issue time Meter Id  Marked Time RP State Plate  \\\n",
       "0    1103341116 2015-12-21      1251.0      NaN          NaN             CA   \n",
       "1    1103700150 2015-12-21      1435.0      NaN          NaN             CA   \n",
       "2    1104803000 2015-12-21      2055.0      NaN          NaN             CA   \n",
       "3    1104820732 2015-12-26      1515.0      NaN          NaN             CA   \n",
       "4    1105461453 2015-09-15       115.0      NaN          NaN             CA   \n",
       "\n",
       "   Plate Expiry Date  VIN  Make Body Style Color            Location  Route  \\\n",
       "0           200304.0  NaN  HOND         PA    GY     13147 WELBY WAY  01521   \n",
       "1           201512.0  NaN   GMC         VN    WH       525 S MAIN ST   1C51   \n",
       "2           201503.0  NaN  NISS         PA    BK       200 WORLD WAY    2R2   \n",
       "3                NaN  NaN  ACUR         PA    WH       100 WORLD WAY   2F11   \n",
       "4           200316.0  NaN  CHEV         PA    BK  GEORGIA ST/OLYMPIC  1FB70   \n",
       "\n",
       "   Agency Violation code Violation Description  Fine amount   Latitude  \\\n",
       "0     1.0         4000A1    NO EVIDENCE OF REG         50.0    99999.0   \n",
       "1     1.0         4000A1    NO EVIDENCE OF REG         50.0    99999.0   \n",
       "2     2.0           8939            WHITE CURB         58.0  6439997.9   \n",
       "3     2.0            000                17104h          NaN  6440041.1   \n",
       "4     1.0          8069A  NO STOPPING/STANDING         93.0    99999.0   \n",
       "\n",
       "   Longitude        Time section  \n",
       "0    99999.0 2015-12-21 12:00:00  \n",
       "1    99999.0 2015-12-21 14:00:00  \n",
       "2  1802686.4 2015-12-21 20:00:00  \n",
       "3  1802686.2 2015-12-26 15:00:00  \n",
       "4    99999.0 2015-09-15 01:00:00  "
      ]
     },
     "execution_count": 68,
     "metadata": {},
     "output_type": "execute_result"
    }
   ],
   "source": [
    "data.head()"
   ]
  },
  {
   "cell_type": "code",
   "execution_count": 70,
   "metadata": {},
   "outputs": [
    {
     "data": {
      "text/plain": [
       "0"
      ]
     },
     "execution_count": 70,
     "metadata": {},
     "output_type": "execute_result"
    }
   ],
   "source": [
    "data['Time section'].astype(\"int\")"
   ]
  },
  {
   "cell_type": "code",
   "execution_count": 19,
   "metadata": {},
   "outputs": [],
   "source": [
    "import matplotlib.pyplot as plt"
   ]
  },
  {
   "cell_type": "code",
   "execution_count": 36,
   "metadata": {},
   "outputs": [
    {
     "data": {
      "text/plain": [
       "[<matplotlib.lines.Line2D at 0x113b9cb70>]"
      ]
     },
     "execution_count": 36,
     "metadata": {},
     "output_type": "execute_result"
    },
    {
     "data": {
      "image/png": "[encoded data removed]",
      "text/plain": [
       "<Figure size 432x288 with 1 Axes>"
      ]
     },
     "metadata": {},
     "output_type": "display_data"
    }
   ],
   "source": [
    "plt.plot(np.arange(1800,len(data['Issue Date'].value_counts().sort_index().values)), \n",
    "         data['Issue Date'].value_counts().sort_index().values[1800:]\n",
    "        )"
   ]
  },
  {
   "cell_type": "code",
   "execution_count": 14,
   "metadata": {},
   "outputs": [
    {
     "data": {
      "text/plain": [
       "array([   0,    1,    2, ..., 1936, 1937, 1938])"
      ]
     },
     "execution_count": 14,
     "metadata": {},
     "output_type": "execute_result"
    }
   ],
   "source": [
    "np.arange(len(data['Issue Date'].value_counts().sort_index().values))"
   ]
  },
  {
   "cell_type": "code",
   "execution_count": 15,
   "metadata": {},
   "outputs": [
    {
     "data": {
      "text/plain": [
       "array([   2,    1,    1, ..., 7136, 5000, 6715])"
      ]
     },
     "execution_count": 15,
     "metadata": {},
     "output_type": "execute_result"
    }
   ],
   "source": [
    "data['Issue Date'].value_counts().sort_index().values"
   ]
  },
  {
   "cell_type": "code",
   "execution_count": 24,
   "metadata": {},
   "outputs": [
    {
     "data": {
      "text/plain": [
       "array([1750, 1751, 1752, 1753, 1754, 1755, 1756, 1757, 1758, 1759, 1760,\n",
       "       1761, 1762, 1763, 1764, 1765, 1766, 1767, 1768, 1769, 1770, 1771,\n",
       "       1772, 1773, 1774, 1775, 1776, 1777, 1778, 1779, 1780, 1781, 1782,\n",
       "       1783, 1784, 1785, 1786, 1787, 1788, 1789, 1790, 1791, 1792, 1793,\n",
       "       1794, 1795, 1796, 1797, 1798, 1799, 1800, 1801, 1802, 1803, 1804,\n",
       "       1805, 1806, 1807, 1808, 1809, 1810, 1811, 1812, 1813, 1814, 1815,\n",
       "       1816, 1817, 1818, 1819, 1820, 1821, 1822, 1823, 1824, 1825, 1826,\n",
       "       1827, 1828, 1829, 1830, 1831, 1832, 1833, 1834, 1835, 1836, 1837,\n",
       "       1838, 1839, 1840, 1841, 1842, 1843, 1844, 1845, 1846, 1847, 1848,\n",
       "       1849, 1850, 1851, 1852, 1853, 1854, 1855, 1856, 1857, 1858, 1859,\n",
       "       1860, 1861, 1862, 1863, 1864, 1865, 1866, 1867, 1868, 1869, 1870,\n",
       "       1871, 1872, 1873, 1874, 1875, 1876, 1877, 1878, 1879, 1880, 1881,\n",
       "       1882, 1883, 1884, 1885, 1886, 1887, 1888, 1889, 1890, 1891, 1892,\n",
       "       1893, 1894, 1895, 1896, 1897, 1898, 1899, 1900, 1901, 1902, 1903,\n",
       "       1904, 1905, 1906, 1907, 1908, 1909, 1910, 1911, 1912, 1913, 1914,\n",
       "       1915, 1916, 1917, 1918, 1919, 1920, 1921, 1922, 1923, 1924, 1925,\n",
       "       1926, 1927, 1928, 1929, 1930, 1931, 1932, 1933, 1934, 1935, 1936,\n",
       "       1937, 1938])"
      ]
     },
     "execution_count": 24,
     "metadata": {},
     "output_type": "execute_result"
    }
   ],
   "source": [
    "np.arange(1750,len(data['Issue Date'].value_counts().sort_index().values))"
   ]
  },
  {
   "cell_type": "code",
   "execution_count": 71,
   "metadata": {},
   "outputs": [
    {
     "data": {
      "text/plain": [
       "565"
      ]
     },
     "execution_count": 71,
     "metadata": {},
     "output_type": "execute_result"
    }
   ],
   "source": []
  },
  {
   "cell_type": "code",
   "execution_count": 28,
   "metadata": {},
   "outputs": [
    {
     "data": {
      "text/plain": [
       "1939"
      ]
     },
     "execution_count": 28,
     "metadata": {},
     "output_type": "execute_result"
    }
   ],
   "source": [
    "len(data['Issue Date'].value_counts().sort_index().values)"
   ]
  },
  {
   "cell_type": "code",
   "execution_count": 31,
   "metadata": {},
   "outputs": [
    {
     "data": {
      "text/plain": [
       "1939"
      ]
     },
     "execution_count": 31,
     "metadata": {},
     "output_type": "execute_result"
    }
   ],
   "source": [
    "len(data['Issue Date'].value_counts().sort_index().values)"
   ]
  },
  {
   "cell_type": "code",
   "execution_count": 48,
   "metadata": {},
   "outputs": [
    {
     "data": {
      "text/plain": [
       "952"
      ]
     },
     "execution_count": 48,
     "metadata": {},
     "output_type": "execute_result"
    }
   ],
   "source": [
    "data['Violation Description'].isnull().sum()"
   ]
  },
  {
   "cell_type": "code",
   "execution_count": null,
   "metadata": {},
   "outputs": [],
   "source": [
    "data['Violation Description'].value_counts().plot.bar()\n"
   ]
  },
  {
   "cell_type": "code",
   "execution_count": 47,
   "metadata": {},
   "outputs": [
    {
     "data": {
      "text/plain": [
       "<matplotlib.axes._subplots.AxesSubplot at 0x118eb4e48>"
      ]
     },
     "execution_count": 47,
     "metadata": {},
     "output_type": "execute_result"
    },
    {
     "data": {
      "image/png": "[encoded data removed]",
      "text/plain": [
       "<Figure size 432x288 with 1 Axes>"
      ]
     },
     "metadata": {},
     "output_type": "display_data"
    }
   ],
   "source": [
    "(data['Violation Description'].value_counts()/data.shape[0]).iloc[0:20].plot.bar()"
   ]
  },
  {
   "cell_type": "code",
   "execution_count": null,
   "metadata": {},
   "outputs": [],
   "source": []
  }
 ],
 "metadata": {
  "kernelspec": {
   "display_name": "Python 3",
   "language": "python",
   "name": "python3"
  },
  "language_info": {
   "codemirror_mode": {
    "name": "ipython",
    "version": 3
   },
   "file_extension": ".py",
   "mimetype": "text/x-python",
   "name": "python",
   "nbconvert_exporter": "python",
   "pygments_lexer": "ipython3",
   "version": "3.6.5"
  }
 },
 "nbformat": 4,
 "nbformat_minor": 2
}
